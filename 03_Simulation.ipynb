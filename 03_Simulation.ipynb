{
 "cells": [
  {
   "cell_type": "markdown",
   "id": "c2478671-a465-41fe-87b5-34c25f3d3d86",
   "metadata": {},
   "source": [
    "# Determine solution of quantum graph solver and comparison to FVM solution"
   ]
  },
  {
   "cell_type": "markdown",
   "id": "314fa2b9-e900-4784-826e-cebd65be1700",
   "metadata": {},
   "source": [
    "## Load modules and necessary functions"
   ]
  },
  {
   "cell_type": "code",
   "execution_count": 25,
   "id": "13fae4d7-fcb0-4ab8-a426-68fc74e4b206",
   "metadata": {},
   "outputs": [],
   "source": [
    "#import numpy as np\n",
    "import matplotlib.pyplot as plt\n",
    "%matplotlib widget\n",
    "\n",
    "import jax.numpy as jnp\n",
    "from jax import random, vmap\n",
    "import numpy as np\n",
    "\n",
    "import os\n",
    "os.environ['CUDA_VISIBLE_DEVICES']='0'\n",
    "os.environ['XLA_PYTHON_CLIENT_PREALLOCATE']='true'\n",
    "os.environ['XLA_PYTHON_CLIENT_MEM_FRACTION']='.6'\n",
    "\n",
    "import sys\n",
    "from src.graph import Example0, Example1, Example2, Example3, Example4, Example5, Example6, Example7, Example8, Example7Ext, Example7Ext2\n",
    "from src.quantumGraphSolverFVM import QuantumGraphSolverFVM\n",
    "from src.dataHandling import load_final_model, load_best_model\n",
    "from src.networks_velocity import modified_MLP, MLP, FF_MLP, PI_DeepONet\n",
    "from src.GPs import get_sample_fns, RBF\n",
    "\n",
    "import pickle\n",
    "from datetime import datetime\n",
    "import jax\n",
    "import optax\n",
    "\n",
    "from jax.example_libraries import optimizers\n"
   ]
  },
  {
   "cell_type": "markdown",
   "id": "260d8bb6-7375-4ee2-a91b-90d35179accf",
   "metadata": {},
   "source": [
    "## Set up global parameters"
   ]
  },
  {
   "cell_type": "code",
   "execution_count": 26,
   "id": "a68f3c30-960d-4ae6-91b5-7d718320f7d8",
   "metadata": {},
   "outputs": [],
   "source": [
    "FVM_NT = 2000\n",
    "FVM_NX = 1000\n",
    "\n",
    "# Choose an appropriate FVM_NX\n",
    "assert FVM_NX % 100 == 0\n",
    "fnx = round(FVM_NX/100)\n",
    "assert FVM_NT % 100 == 0\n",
    "fnt = round(FVM_NT/100)\n",
    "\n",
    "\n",
    "EPS = 0.1\n",
    "\n",
    "N_DATA_BC = 100\n",
    "N_DATA_INIT = 100\n",
    "\n",
    "x_sensor_bc = jnp.linspace(0, 1, N_DATA_BC+1)\n",
    "x_sensor_init = jnp.linspace(0, 1, N_DATA_INIT+1)\n",
    "n_sensor_bc =  N_DATA_BC+1\n",
    "n_sensor_init = N_DATA_INIT+1\n",
    "\n",
    "# Locations of residual values inside domain\n",
    "T_RES, X_RES = jnp.meshgrid(jnp.linspace(0, 1, FVM_NT + 1),\n",
    "                            jnp.linspace(0, 1, FVM_NX + 1))\n",
    "\n",
    "TX = jnp.hstack([T_RES.reshape((-1,1)), X_RES.reshape((-1,1))])\n",
    "TX_small = jnp.hstack([l.reshape((-1, 1)) for l in jnp.meshgrid(\n",
    "    jnp.linspace(0, 1, N_DATA_BC + 1),\n",
    "    jnp.linspace(0, 1, N_DATA_INIT + 1))])\n",
    "\n",
    "# Change GP parameters to avoid inverse crime, original values\n",
    "# LENGTH_SCALE = 0.5 # original\n",
    "# N = 512 # original\n",
    "LENGTH_SCALE = 0.4\n",
    "N = 468\n",
    "\n",
    "sample_u_in_fn, sample_u_out_fn, sample_u_init_fn = get_sample_fns(N=N, length_scale=LENGTH_SCALE)\n",
    "\n",
    "\n",
    "def fvm_solve(graph, nx=200, nt = 1000):\n",
    "    fvm_solver = QuantumGraphSolverFVM(graph)\n",
    "    v = fvm_solver.solve(nx=nx + 1, nt=nt + 1)\n",
    "    v0 = np.array([fvm_solver.get_u_edge(v.T, i).T for i in range(graph.ne)])\n",
    "    return v0\n",
    "\n",
    "def draw_random_velocity(graph, key, vmin=0.5, vmax=2.):\n",
    "    v_current = graph.v\n",
    "    return random.uniform(key, v_current.shape, minval=vmin, maxval=vmax)\n",
    "\n",
    "# Prepare certain time-space points where model is evaluated\n",
    "N = 100\n",
    "tx_in = jnp.hstack([jnp.linspace(0, 1, N + 1)[:, None], jnp.ones((N + 1, 1))])\n",
    "tx_out = jnp.hstack([jnp.linspace(0, 1, N + 1)[:, None], jnp.zeros((N + 1, 1))])\n",
    "\n",
    "# Prepare certain time-space points where model is evaluated\n",
    "n_rnd = 200\n",
    "tx_rnd = random.uniform(random.key(1),(n_rnd,2))\n",
    "tx_mid = jnp.hstack([jnp.linspace(0, 1, N + 1)[:, None], .5*jnp.ones((N + 1, 1))])\n"
   ]
  },
  {
   "cell_type": "markdown",
   "id": "ede711a1-8e89-45da-be71-36483a89e4c3",
   "metadata": {},
   "source": [
    "## Load model parameters for PI DeepONet model"
   ]
  },
  {
   "cell_type": "code",
   "execution_count": 27,
   "id": "a64c90fd-8da1-47fc-9ad3-2431e5e63f72",
   "metadata": {},
   "outputs": [
    {
     "name": "stdout",
     "output_type": "stream",
     "text": [
      "Loaded  ./final_params/params_inflow_mode_2_width_200_split_8_epochs_20000_loss_6.64e-04_FF_best_01-28-2025-163740_FF.pkl\n",
      "Loaded  ./final_params/params_inner_mode_2_width_200_split_8_epochs_20000_loss_2.62e-04_FF_best_01-29-2025-074810_FF.pkl\n",
      "Loaded  ./final_params/params_outflow_mode_2_width_200_split_8_epochs_20000_loss_6.30e-04_FF_best_01-29-2025-041253_FF.pkl\n"
     ]
    }
   ],
   "source": [
    "# These parameters are investigated\n",
    "#N_WIDTH, MODE = 100, 0\n",
    "#N_WIDTH, MODE = 100, 1\n",
    "#N_WIDTH, MODE = 100, 2\n",
    "#N_WIDTH, MODE = 200, 0\n",
    "#N_WIDTH, MODE = 200, 1\n",
    "N_WIDTH, MODE = 200, 2\n",
    "\n",
    "FLOW_APPROACH = 'rbf'\n",
    "#FLOW_APPROACH = 'poly'\n",
    "\n",
    "SOLVER_N_ITER = 5000\n",
    "L2_abs_loss = []\n",
    "L2_rel_loss = []\n",
    "Linf_loss = []\n",
    "Loss_sum = []\n",
    "Loss_flux = []\n",
    "Loss_cont = []\n",
    "\n",
    "# We evaluate the inference error for the following example\n",
    "# Various test settings are implemented, feel free to define your\n",
    "# own examples in src.graph\n",
    "\n",
    "mode= 2\n",
    "if mode == 0:\n",
    "    graph = Example2(eps=EPS)\n",
    "if mode == 1:\n",
    "    graph = Example5(eps=EPS, n_edges=3)\n",
    "if mode == 2:\n",
    "    graph = Example7(eps=EPS)\n",
    "elif mode == 3:\n",
    "    n_in = 3\n",
    "    n_out = 3\n",
    "    graph = Example7Ext2(n=34*3, n_in = n_in, n_out=n_out, eps=EPS)\n",
    "elif mode == 5:\n",
    "    n_in = 5\n",
    "    n_out = 5\n",
    "    graph = Example7Ext2(n=34*5, n_in = n_in, n_out=n_out, eps=EPS)\n",
    "elif mode == 10:\n",
    "    n_in = 5\n",
    "    n_out = 5\n",
    "    graph = Example7Ext2(n=34*10, n_in = n_in, n_out=n_out, eps=EPS)\n",
    "\n",
    "m = 304\n",
    "\n",
    "params_inflow, params_inner, params_outflow = load_best_model(N_WIDTH, MODE, prefix='.')\n",
    "\n",
    "# Initialize model\n",
    "branch_layers = [m, N_WIDTH, N_WIDTH, N_WIDTH, N_WIDTH, N_WIDTH, N_WIDTH, N_WIDTH]\n",
    "trunk_layers =  [2, N_WIDTH, N_WIDTH, N_WIDTH, N_WIDTH, N_WIDTH, N_WIDTH, N_WIDTH]\n",
    "model = PI_DeepONet(Example0(eps=EPS), branch_layers, trunk_layers, trunk_net=FF_MLP)"
   ]
  },
  {
   "cell_type": "markdown",
   "id": "3eefd722-f01f-423e-b160-2685e707489f",
   "metadata": {},
   "source": [
    "## Plot adjacency matrix of graph"
   ]
  },
  {
   "cell_type": "code",
   "execution_count": 28,
   "id": "6816c46f-baff-4e7c-b544-c5a82efabc75",
   "metadata": {},
   "outputs": [
    {
     "data": {
      "text/plain": [
       "<matplotlib.image.AxesImage at 0x7eff782febd0>"
      ]
     },
     "execution_count": 28,
     "metadata": {},
     "output_type": "execute_result"
    },
    {
     "data": {
      "application/vnd.jupyter.widget-view+json": {
       "model_id": "3ebbe2af4f24422189262b095485e3b9",
       "version_major": 2,
       "version_minor": 0
      },
      "image/png": "[encoded data removed]",
      "text/html": [
       "\n",
       "            <div style=\"display: inline-block;\">\n",
       "                <div class=\"jupyter-widgets widget-label\" style=\"text-align: center;\">\n",
       "                    Figure\n",
       "                </div>\n",
       "                <img src='data:image/png;base64,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' width=600.0/>\n",
       "            </div>\n",
       "        "
      ],
      "text/plain": [
       "Canvas(toolbar=Toolbar(toolitems=[('Home', 'Reset original view', 'home', 'home'), ('Back', 'Back to previous …"
      ]
     },
     "metadata": {},
     "output_type": "display_data"
    }
   ],
   "source": [
    "fig = plt.figure(figsize=(6,3))\n",
    "plt.imshow(graph.A)"
   ]
  },
  {
   "cell_type": "markdown",
   "id": "209b46af-71e7-410e-8923-d0fd58d2e14d",
   "metadata": {},
   "source": [
    "## Plot graph"
   ]
  },
  {
   "cell_type": "code",
   "execution_count": 29,
   "id": "0001474f-af2f-4a69-831a-728f0671fb55",
   "metadata": {},
   "outputs": [
    {
     "data": {
      "text/plain": [
       "Text(0.5, 1.0, 'Graph with 12 edges, 1 inflow and 1 outflow nodes')"
      ]
     },
     "execution_count": 29,
     "metadata": {},
     "output_type": "execute_result"
    },
    {
     "data": {
      "application/vnd.jupyter.widget-view+json": {
       "model_id": "2166c67d79fe4acf815f48b06a8c8fa9",
       "version_major": 2,
       "version_minor": 0
      },
      "image/png": "[encoded data removed]",
      "text/html": [
       "\n",
       "            <div style=\"display: inline-block;\">\n",
       "                <div class=\"jupyter-widgets widget-label\" style=\"text-align: center;\">\n",
       "                    Figure\n",
       "                </div>\n",
       "                <img src='data:image/png;base64,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' width=600.0/>\n",
       "            </div>\n",
       "        "
      ],
      "text/plain": [
       "Canvas(toolbar=Toolbar(toolitems=[('Home', 'Reset original view', 'home', 'home'), ('Back', 'Back to previous …"
      ]
     },
     "metadata": {},
     "output_type": "display_data"
    }
   ],
   "source": [
    "fig = plt.figure(figsize=(6,3))\n",
    "n_in = len(graph.inflowNodes)\n",
    "n_out = len(graph.outflowNodes)\n",
    "sfig = f'Graph with {graph.ne} edges, {n_in} inflow and {n_out} outflow nodes';\n",
    "ax = plt.gca()\n",
    "graph.plotGraph(ax=ax)\n",
    "ax.set_title(sfig)\n"
   ]
  },
  {
   "cell_type": "code",
   "execution_count": 30,
   "id": "56837917-ffab-4b15-a539-9d5eb4dbab65",
   "metadata": {},
   "outputs": [
    {
     "name": "stdout",
     "output_type": "stream",
     "text": [
      "Graph has 12 edges and 7 vertices\n"
     ]
    }
   ],
   "source": [
    "print(f'Graph has {graph.ne} edges and {graph.n_v} vertices')"
   ]
  },
  {
   "cell_type": "markdown",
   "id": "3cd7a334-bcbd-485a-a37b-f61bfd915ad6",
   "metadata": {},
   "source": [
    "## Prepare solution on graph"
   ]
  },
  {
   "cell_type": "markdown",
   "id": "e73ce991-4dc1-45fc-aeba-48301b8a13dc",
   "metadata": {},
   "source": [
    "### Determine vertex-edge connectivity table"
   ]
  },
  {
   "cell_type": "code",
   "execution_count": 31,
   "id": "d5a53c9f-96e0-4856-a7ec-034665bf8229",
   "metadata": {},
   "outputs": [],
   "source": [
    "# Vertex-edge list\n",
    "vertex_edge_list = []\n",
    "glob_inner_idx = 0\n",
    "for vidx in graph.innerVertices:\n",
    "    for eidx in graph.Vin[vidx]: # Incoming edges in vertex vidx\n",
    "        #print(f'Incoming edge {eidx} into vertex {vidx} is a ')\n",
    "        if graph.E[eidx][0] in graph.inflowNodes:\n",
    "            #print(f'\\t INFLOW EDGE')\n",
    "            vertex_edge_list.append([vidx, glob_inner_idx, eidx, -1, -1])\n",
    "        else:\n",
    "            #print(f'\\t INNER EDGE')\n",
    "            vertex_edge_list.append([vidx, glob_inner_idx, eidx, -1, 0])\n",
    "    for eidx in graph.Vout[vidx]: # Outflowing edges from vertex vidx\n",
    "        #print(f'Outgoing edge {eidx} from vertex {vidx} is a ')\n",
    "        if graph.E[eidx][1] in graph.outflowNodes:\n",
    "            #print(f'\\t OUTFLOW EDGE')\n",
    "            vertex_edge_list.append([vidx, glob_inner_idx, eidx, 1, 1])\n",
    "        else:\n",
    "            #print(f'\\t INNER EDGE')\n",
    "            vertex_edge_list.append([vidx, glob_inner_idx, eidx, 1, 0])\n",
    "    glob_inner_idx += 1\n",
    "vertex_edge_list = np.vstack(vertex_edge_list)\n",
    "n_params = vertex_edge_list.shape[0]\n",
    "\n",
    "# Inner vertex index -> vertex-edge list index\n",
    "ve_vidx = []\n",
    "for vidx in range(len(graph.innerVertices)):\n",
    "    ve_vidx.append(jnp.argwhere(vertex_edge_list[:,1] == vidx).flatten())\n",
    "\n",
    "# Edge list\n",
    "edge_list = []\n",
    "inner_idx = 0\n",
    "\n",
    "for i, e in enumerate(graph.E): # All edges\n",
    "    #print(f'Edge {e} is a ')\n",
    "    inflow_idx = np.where(e[0] == graph.inflowNodes)[0]\n",
    "    outflow_idx = np.where(e[1] == graph.outflowNodes)[0]\n",
    "    if len(inflow_idx) > 0:\n",
    "        #print(f'\\t INFLOW EDGE')\n",
    "        edge_list.append([i, inflow_idx[0], *e, -1])\n",
    "    elif len(outflow_idx) > 0:\n",
    "        #print(f'\\t OUTFLOW EDGE')\n",
    "        edge_list.append([i, outflow_idx[0], *e, 1])\n",
    "    else:\n",
    "        #print(f'\\t INNER EDGE')\n",
    "        edge_list.append([i, inner_idx, *e, 0])\n",
    "        inner_idx += 1\n",
    "edge_list = np.vstack(edge_list)\n",
    "\n",
    "n_inflow_edges = np.sum(edge_list[:,-1]==-1)\n",
    "n_outflow_edges = np.sum(edge_list[:,-1]==1)\n",
    "n_inner_edges = np.sum(edge_list[:,-1]==0)"
   ]
  },
  {
   "cell_type": "markdown",
   "id": "d0922d9c-cd75-4c95-b07b-b7a567aeb9a2",
   "metadata": {},
   "source": [
    "### Polynomial and RBF approach for flows"
   ]
  },
  {
   "cell_type": "code",
   "execution_count": 32,
   "id": "00304b83-c922-4fd9-8f6d-c5ba11361969",
   "metadata": {},
   "outputs": [],
   "source": [
    "if FLOW_APPROACH == 'poly':\n",
    "    # beta are the coefficients of some polynomial (power, Chebyshev, etc.)\n",
    "    deg_flow = 3\n",
    "    def draw_initial_beta(key):\n",
    "        return random.normal(key, shape=(n_params, deg_flow + 1)) * 0.01\n",
    "    \n",
    "\n",
    "    def beta_to_z_flow(beta):\n",
    "        return jnp.vstack([jnp.polyval(b, x_sensor_bc).reshape((1,101)) for b in beta])\n",
    "    \n",
    "    print(f'Beta to z_flow shape: {beta_to_z_flow(beta).shape}')\n",
    "    \n",
    "elif FLOW_APPROACH == 'rbf':\n",
    "\n",
    "    # Parameters for RBF interpolation\n",
    "    n_rbf_flow = 10\n",
    "    \n",
    "    rbf_output_scale = 1.\n",
    "    rbf_length_scale = 0.2\n",
    "    rbf_jitter = 1e-10\n",
    "    \n",
    "    def draw_initial_beta(key):\n",
    "        return random.normal(key, shape=(n_params, n_rbf_flow)) * 0.01\n",
    "    \n",
    "    \n",
    "    x_rbf_flow = jnp.linspace(0, 1, n_rbf_flow)\n",
    "    K_flow = RBF(x_sensor_bc.reshape((n_sensor_bc, 1)),\n",
    "                 x_rbf_flow.reshape((-1, 1)),\n",
    "                 (rbf_output_scale, rbf_length_scale))\n",
    "    \n",
    "    def beta_to_z_flow(beta):\n",
    "        return jnp.vstack([jnp.dot(K_flow, b).reshape((1, n_sensor_bc)) for b in beta])\n",
    "        \n",
    "    plot_samples = False\n",
    "    if plot_samples:\n",
    "        fig = plt.figure(clear=True)\n",
    "        ax = fig.add_subplot(1,1,1)\n",
    "        #fig, ax = plt.subplots(1,2, subplot_kw={'clear':True})\n",
    "        ax.plot(x_sensor_bc, beta_to_z_flow(beta).T)\n",
    "        #ax[1].plot(x_sensor_init, gamma_to_z_init(gamma).T)"
   ]
  },
  {
   "cell_type": "markdown",
   "id": "0818a12d-f5f1-4d9d-8056-9170bb981e85",
   "metadata": {},
   "source": [
    "## Prepare quantities to efficiently evaluate model"
   ]
  },
  {
   "cell_type": "code",
   "execution_count": 33,
   "id": "ae74b8e9-e98e-4ccf-96b3-e1abcbe4126d",
   "metadata": {},
   "outputs": [],
   "source": [
    "# Prepare evaluation of measurement data\n",
    "predict_all = vmap(model.flux_net, (None, None, 0, 0))\n",
    "predict_flux = vmap(predict_all, (None, 0, None, None))\n",
    "\n",
    "incoming_inflow_idx = jnp.where(vertex_edge_list[:, -1] == -1)[0]\n",
    "incoming_inner_idx = jnp.where((vertex_edge_list[:, -1] == 0) * (vertex_edge_list[:, 3] == -1))[0]\n",
    "outgoing_inner_idx = jnp.where((vertex_edge_list[:, -1] == 0) * (vertex_edge_list[:, 3] == 1))[0]\n",
    "outgoing_outflow_idx = jnp.where(vertex_edge_list[:, -1] == +1)[0]\n",
    "\n",
    "# Prepare evaluation of vertex-edge data\n",
    "n_ve = vertex_edge_list.shape[0]\n",
    "n_tx = tx_in.shape[0]\n",
    "\n",
    "ve_incoming_inflow = vertex_edge_list[incoming_inflow_idx, :]\n",
    "ve_incoming_inner = vertex_edge_list[incoming_inner_idx, :]\n",
    "ve_outgoing_inner = vertex_edge_list[outgoing_inner_idx, :]\n",
    "ve_outgoing_outflow = vertex_edge_list[outgoing_outflow_idx, :]\n",
    "\n",
    "n_incoming_inflow = ve_incoming_inflow.shape[0]\n",
    "n_incoming_inner = ve_incoming_inner.shape[0]\n",
    "n_outgoing_inner = ve_outgoing_inner.shape[0]\n",
    "n_outgoing_outflow = ve_outgoing_outflow.shape[0]\n",
    "\n",
    "def predict_ve_incoming_inflow(z):\n",
    "    f, v = jnp.split(jnp.stack(predict_flux(params_inflow, z[ve_incoming_inflow[:, 2],:], tx_in[:, 0], tx_in[:, 1])), 2)\n",
    "    return f.squeeze(axis=0) * ve_incoming_inflow[:, 3].reshape((-1,1)), v.squeeze(axis=0)\n",
    "    \n",
    "def predict_ve_incoming_inner(z):\n",
    "    f, v = jnp.split(jnp.stack(predict_flux(params_inner, z[ve_incoming_inner[:, 2],:], tx_in[:, 0], tx_in[:, 1])), 2)\n",
    "    return f.squeeze(axis=0) * ve_incoming_inner[:, 3].reshape((-1,1)), v.squeeze(axis=0)\n",
    "    \n",
    "def predict_ve_outgoing_inner(z):\n",
    "    f, v = jnp.split(jnp.stack(predict_flux(params_inner, z[ve_outgoing_inner[:, 2],:], tx_out[:, 0], tx_out[:, 1])), 2)\n",
    "    return f.squeeze(axis=0) * ve_outgoing_inner[:, 3].reshape((-1,1)), v.squeeze(axis=0)\n",
    "    \n",
    "def predict_ve_outgoing_outflow(z):\n",
    "    f, v = jnp.split(jnp.stack(predict_flux(params_outflow, z[ve_outgoing_outflow[:, 2],:], tx_out[:, 0], tx_out[:, 1])), 2)\n",
    "    return f.squeeze(axis=0) * ve_outgoing_outflow[:, 3].reshape((-1,1)), v.squeeze(axis=0)"
   ]
  },
  {
   "cell_type": "markdown",
   "id": "46722a1d-3ea6-4501-a06d-90a7c1c67d23",
   "metadata": {},
   "source": [
    "### Define loss function for inference"
   ]
  },
  {
   "cell_type": "code",
   "execution_count": 34,
   "id": "8db03d37-6b4a-401e-90a2-795466b59978",
   "metadata": {},
   "outputs": [],
   "source": [
    "def f_u_new(u_base):\n",
    "    ve_incoming_inflow_flux, ve_incoming_inflow_vals = predict_ve_incoming_inflow(u_base)\n",
    "    ve_incoming_inner_flux, ve_incoming_inner_vals = predict_ve_incoming_inner(u_base)\n",
    "    ve_outgoing_inner_flux, ve_outgoing_inner_vals = predict_ve_outgoing_inner(u_base)\n",
    "    ve_outgoing_outflow_flux, ve_outgoing_outflow_vals = predict_ve_outgoing_outflow(u_base)\n",
    "    \n",
    "    Xvals = jnp.empty((n_ve, n_tx))\n",
    "    Xvals = Xvals.at[incoming_inflow_idx].set(ve_incoming_inflow_vals)\n",
    "    Xvals = Xvals.at[incoming_inner_idx].set(ve_incoming_inner_vals)\n",
    "    Xvals = Xvals.at[outgoing_inner_idx].set(ve_outgoing_inner_vals)\n",
    "    Xvals = Xvals.at[outgoing_outflow_idx].set(ve_outgoing_outflow_vals)\n",
    "    \n",
    "    Xflux = jnp.empty((n_ve, n_tx))\n",
    "    Xflux = Xflux.at[incoming_inflow_idx].set(ve_incoming_inflow_flux)\n",
    "    Xflux = Xflux.at[incoming_inner_idx].set(ve_incoming_inner_flux)\n",
    "    Xflux = Xflux.at[outgoing_inner_idx].set(ve_outgoing_inner_flux)\n",
    "    Xflux = Xflux.at[outgoing_outflow_idx].set(ve_outgoing_outflow_flux)\n",
    "    \n",
    "    \n",
    "    loss_cont = 0\n",
    "    loss_flux = 0\n",
    "    \n",
    "    for vidx in range(len(graph.innerVertices)):\n",
    "        loss_cont += jnp.sum(jnp.square(jnp.diff(Xvals[ve_vidx[vidx], :], axis=0)))\n",
    "        loss_flux += jnp.sum(jnp.square(jnp.sum(Xflux[ve_vidx[vidx], :], axis=0)))\n",
    "        \n",
    "    loss_cont /= len(graph.innerVertices)\n",
    "    loss_flux /= len(graph.innerVertices)\n",
    "    \n",
    "    return loss_cont, loss_flux"
   ]
  },
  {
   "cell_type": "markdown",
   "id": "d306a6a8-3608-4b8b-b3b6-021b5f39ea7e",
   "metadata": {},
   "source": [
    "### Function `z_to_u_base`\n",
    "This function plugs the parameters $z \\in \\mathbb{R}^{101\\times n_\\text{params}}$ to its correct position in the list of sensor values."
   ]
  },
  {
   "cell_type": "code",
   "execution_count": 35,
   "id": "e7bd3dfe-5a33-4583-a964-b5c627134c0a",
   "metadata": {},
   "outputs": [],
   "source": [
    "def z_to_u_base(z, u_in, u_init_list, u_out, vel):\n",
    "    u_list = []\n",
    "    in_offset = n_inflow_edges\n",
    "    out_offset = 2 * n_inner_edges + n_inflow_edges\n",
    "    for e in edge_list:\n",
    "        if e[-1] == -1: # Inflow edge\n",
    "            u_list.append(jnp.hstack([u_in[e[1]],\n",
    "                                      z[e[1]],\n",
    "                                      u_init_list[e[0]],\n",
    "                                      vel[e[0]]]))\n",
    "        elif e[-1] == 0: # Inner edge\n",
    "            u_list.append(jnp.hstack([z[2*e[1] + in_offset],\n",
    "                                      z[2*e[1] + in_offset + 1],\n",
    "                                      u_init_list[e[0]],\n",
    "                                      vel[e[0]]]))\n",
    "        else:\n",
    "            u_list.append(jnp.hstack([z[out_offset + e[1]],\n",
    "                                      u_out[e[1]],\n",
    "                                      u_init_list[e[0]],\n",
    "                                      vel[e[0]]]))\n",
    "    ret = jnp.vstack(u_list)\n",
    "    return ret\n",
    "\n",
    "def f_beta(beta, u_in, u_init_list, u_out, vel):\n",
    "    \n",
    "    return f_u_new(z_to_u_base(beta_to_z_flow(beta), u_in, u_init_list, u_out, vel))\n",
    "\n",
    "def f(beta, u_in, u_init_list, u_out, vel):\n",
    "    fb = f_beta(beta, u_in, u_init_list, u_out, vel)\n",
    "    return fb[0] + fb[1]\n",
    "\n",
    "val_grad_f = jax.jit(jax.value_and_grad(f,0))"
   ]
  },
  {
   "cell_type": "markdown",
   "id": "198ba569-ccec-4568-87cd-3ec66ee2c3b6",
   "metadata": {},
   "source": [
    "## Everything below is key specific"
   ]
  },
  {
   "cell_type": "code",
   "execution_count": 36,
   "id": "eaef4fb6-8245-42d5-901b-08486557fdfb",
   "metadata": {},
   "outputs": [],
   "source": [
    "# Initialize global key\n",
    "global_key = random.key(0)\n",
    "n = 1"
   ]
  },
  {
   "cell_type": "code",
   "execution_count": 37,
   "id": "8b09a371-33c8-405a-bfdb-379a78455bda",
   "metadata": {},
   "outputs": [],
   "source": [
    "global_key, key = random.split(global_key, 2)"
   ]
  },
  {
   "cell_type": "markdown",
   "id": "9685a036-751d-4f97-b7c5-aa0f3e0f9c99",
   "metadata": {},
   "source": [
    "### Draw random conditions"
   ]
  },
  {
   "cell_type": "code",
   "execution_count": 38,
   "id": "9ac1f8d8-d4dd-4e22-924a-4f1e8612fa19",
   "metadata": {},
   "outputs": [],
   "source": [
    "# Split key\n",
    "key, inflow_key, outflow_key, init_key, vel_key, beta_key = random.split(key, 6)\n",
    "\n",
    "# Generate GPs for inflow conditions\n",
    "inflow_fn_list = [sample_u_in_fn(s) for s in random.split(inflow_key, len(graph.inflowNodes))]\n",
    "\n",
    "# Generate GPs for outflow conditions\n",
    "outflow_fn_list = [sample_u_out_fn(s) for s in random.split(outflow_key, len(graph.outflowNodes))]\n",
    "\n",
    "# Generate GP for initial condition\n",
    "init_cond_fn_list = [sample_u_init_fn(s) for s in random.split(init_key, graph.ne)]\n",
    "\n",
    "# Set up inflow conditions for FVM solver\n",
    "def dirichletAlpha(x):\n",
    "    alpha = np.zeros(graph.n_v)\n",
    "    alpha[graph.inflowNodes] = np.array([inflow_fn(x) for inflow_fn in inflow_fn_list])\n",
    "    return alpha\n",
    "\n",
    "# Set up outflow conditions for FVM solver\n",
    "def dirichletBeta(x):\n",
    "    beta = np.zeros(graph.n_v)\n",
    "    beta[graph.outflowNodes] = np.array([outflow_fn(x) for outflow_fn in outflow_fn_list])\n",
    "    return beta\n",
    "    \n",
    "# Set up initial conditions for FVM solver\n",
    "initial_cond = lambda x: np.array([init_cond_fn(x) for init_cond_fn in init_cond_fn_list])\n",
    "initial_cond_jnp = lambda x: jnp.array([init_cond_fn(x) for init_cond_fn in init_cond_fn_list])\n",
    "\n",
    "graph.dirichletAlpha = dirichletAlpha\n",
    "graph.dirichletBeta = dirichletBeta\n",
    "graph.initial_cond = initial_cond\n",
    "graph.initial_cond_jnp = initial_cond_jnp\n",
    "\n",
    "# Draw and set random velocity\n",
    "vel = np.array(draw_random_velocity(graph, vel_key))\n",
    "graph.v = vel"
   ]
  },
  {
   "cell_type": "markdown",
   "id": "c458ab3b-41f6-4a3a-8caf-23e5d1bdad41",
   "metadata": {},
   "source": [
    "### Compute FVM solution on time interval $[-0.1, 1]$"
   ]
  },
  {
   "cell_type": "code",
   "execution_count": 39,
   "id": "5c0bf184-62ef-46bb-92dc-c37c2686e759",
   "metadata": {},
   "outputs": [],
   "source": [
    "# Set initial time to -0.1\n",
    "# but store values starting from t=0\n",
    "TimeOffset = 0.1\n",
    "graph.lb[0] = -TimeOffset\n",
    "\n",
    "# Solve PDE on graph using the FVM solver on fine grid\n",
    "v = fvm_solve(graph, nx=FVM_NX, nt=int(FVM_NT * (1 + TimeOffset)))\n",
    "v = v[:, :, int(TimeOffset*FVM_NT):]\n",
    "\n",
    "u_init_list = [jnp.interp(x_sensor_init, jnp.linspace(0, 1, FVM_NX + 1), v[i, :, 0]) for i in range(graph.ne)]\n",
    "u_in = np.hstack([inflow_fn(x_sensor_bc) for inflow_fn in inflow_fn_list]).reshape(-1, len(x_sensor_bc))\n",
    "u_out = np.hstack([outflow_fn(x_sensor_bc) for outflow_fn in outflow_fn_list]).reshape(-1, len(x_sensor_bc))\n",
    "\n",
    "# For plotting and error computation\n",
    "v_small = v[:,::fnx,::fnt]"
   ]
  },
  {
   "cell_type": "markdown",
   "id": "799c1138-6140-45ab-a9ab-cdbd70b35335",
   "metadata": {},
   "source": [
    "## Initialize solver "
   ]
  },
  {
   "cell_type": "code",
   "execution_count": 40,
   "id": "bb6e855f-d05b-441f-8161-bea10a7b7cff",
   "metadata": {},
   "outputs": [],
   "source": [
    "solver = optax.adamw(learning_rate=1e-4)\n",
    "beta = draw_initial_beta(beta_key)\n",
    "opt_state = solver.init(beta)\n",
    "min_norm_grad = jnp.inf\n",
    "min_val = jnp.inf\n"
   ]
  },
  {
   "cell_type": "markdown",
   "id": "21df8d70-e215-433f-b1f5-d0e4113d7d36",
   "metadata": {},
   "source": [
    "## Simulation"
   ]
  },
  {
   "cell_type": "code",
   "execution_count": 41,
   "id": "2cf8cbe9-0687-4256-9001-932b9d497f3f",
   "metadata": {
    "scrolled": true
   },
   "outputs": [
    {
     "name": "stdout",
     "output_type": "stream",
     "text": [
      " Iteration \tTotal loss \t Continuity \t Flux condition \t Norm of grad\n",
      "         0 \t  6.92E+01 \t   6.87E+01 \t       4.31E-01 \t     1.42E+02\n",
      "       500 \t  1.79E+01 \t   1.78E+01 \t       1.12E-01 \t     7.83E+01\n",
      "      1000 \t  1.31E+00 \t   1.24E+00 \t       6.45E-02 \t     2.34E+01\n",
      "      1500 \t  5.26E-01 \t   4.86E-01 \t       3.97E-02 \t     5.33E+00\n",
      "      2000 \t  3.03E-01 \t   2.80E-01 \t       2.32E-02 \t     3.31E+00\n",
      "      2500 \t  1.87E-01 \t   1.74E-01 \t       1.37E-02 \t     2.13E+00\n",
      "      3000 \t  1.23E-01 \t   1.14E-01 \t       8.98E-03 \t     1.38E+00\n",
      "      3500 \t  8.52E-02 \t   7.83E-02 \t       6.86E-03 \t     9.42E-01\n",
      "      4000 \t  6.06E-02 \t   5.48E-02 \t       5.81E-03 \t     6.78E-01\n",
      "      4500 \t  4.43E-02 \t   3.90E-02 \t       5.27E-03 \t     4.88E-01\n",
      "      5000 \t  3.38E-02 \t   2.88E-02 \t       4.96E-03 \t     3.55E-01\n",
      "      5500 \t  2.69E-02 \t   2.21E-02 \t       4.78E-03 \t     2.78E-01\n",
      "      6000 \t  2.21E-02 \t   1.75E-02 \t       4.55E-03 \t     2.05E-01\n",
      "      6500 \t  1.83E-02 \t   1.40E-02 \t       4.30E-03 \t     1.71E-01\n",
      "      7000 \t  1.52E-02 \t   1.12E-02 \t       4.00E-03 \t     1.86E-01\n",
      "      7500 \t  1.24E-02 \t   8.73E-03 \t       3.69E-03 \t     1.39E-01\n",
      "      8000 \t  1.01E-02 \t   6.78E-03 \t       3.34E-03 \t     9.65E-02\n",
      "      8500 \t  8.30E-03 \t   5.26E-03 \t       3.05E-03 \t     1.11E-01\n",
      "      9000 \t  6.94E-03 \t   4.16E-03 \t       2.78E-03 \t     1.10E-01\n",
      "      9500 \t  5.96E-03 \t   3.43E-03 \t       2.54E-03 \t     1.22E-01\n"
     ]
    }
   ],
   "source": [
    "print(f\"{' Iteration':10s} \\t{'Total loss':10s} \\t {'Continuity':10s} \\t {'Flux condition':14s} \\t {'Norm of grad':12s}\")\n",
    "for i in range(10000):\n",
    "    val, grad = val_grad_f(beta, u_in, u_init_list, u_out, vel)\n",
    "    updates, opt_state = solver.update(grad, opt_state, beta)\n",
    "    beta = optax.apply_updates(beta, updates)\n",
    "    grad_norm = jnp.linalg.norm(grad)\n",
    "    \n",
    "    if grad_norm < min_norm_grad:\n",
    "        min_norm_grad = grad_norm\n",
    "        \n",
    "    if val < min_val:\n",
    "        min_val = val\n",
    "        beta_star = beta\n",
    "        \n",
    "    if i % 500 == 0:\n",
    "        fb = f_beta(beta, u_in, u_init_list, u_out, vel)\n",
    "        print(f\"{i:10} \\t{f(beta, u_in, u_init_list, u_out, vel):10.2E} \\t {fb[0]:10.2E} \\t {fb[1]:14.2E} \\t {jnp.linalg.norm(grad):12.2E}\")\n",
    "        #print(f'Objective function (i={i}): total loss {f(beta):.2E} = cont part {fb[0]:.2E} + flux part {fb[1]:.2E} \\t||\\t norm of gradient {jnp.linalg.norm(grad):.2E}')"
   ]
  },
  {
   "cell_type": "markdown",
   "id": "4589338f-ed20-4ac8-b06b-8ba3f852a675",
   "metadata": {},
   "source": [
    "### Predict current values using learned $\\beta$"
   ]
  },
  {
   "cell_type": "code",
   "execution_count": 42,
   "id": "1f7ab34c-75b1-4c99-a74b-fe5c322c8604",
   "metadata": {},
   "outputs": [],
   "source": [
    "beta = beta_star\n",
    "z = beta_to_z_flow(beta)\n",
    "u_base = z_to_u_base(z, u_in, u_init_list, u_out, vel)\n",
    "\n",
    "v_pred = []\n",
    "for e in edge_list:\n",
    "    if e[-1] == -1: # Inflow edge\n",
    "        #_, e_vals = model.predict_flux_all(params_inflow, u_base[e[0]], TX_small)\n",
    "        e_vals = model.predict_s_all(params_inflow, u_base[e[0]], TX_small)\n",
    "    elif e[-1] == 0: # Inner edge\n",
    "        #_, e_vals = model.predict_flux_all(params_inner, u_base[e[0]], TX_small)\n",
    "        e_vals = model.predict_s_all(params_inner, u_base[e[0]], TX_small)\n",
    "    else:\n",
    "        #_, e_vals = model.predict_flux_all(params_outflow, u_base[e[0]], TX_small)\n",
    "        e_vals = model.predict_s_all(params_outflow, u_base[e[0]], TX_small)\n",
    "    v_pred.append(e_vals.reshape(101, 101))\n",
    "v_pred = np.stack(v_pred, dtype=np.float64)"
   ]
  },
  {
   "cell_type": "markdown",
   "id": "bc3c2088-ede3-4ce3-8fc3-a1d2adeb326e",
   "metadata": {},
   "source": [
    "### Compute errors"
   ]
  },
  {
   "cell_type": "code",
   "execution_count": 43,
   "id": "e011aeff-b983-41f6-b31f-60086d5af8af",
   "metadata": {},
   "outputs": [],
   "source": [
    "l2_abs_error_per_edge = np.sqrt(np.mean(np.square(v_pred-v_small),axis=(1,2)))\n",
    "l2_norm_ref_per_edge = np.sqrt(np.mean(np.square(v_small),axis=(1,2)))\n",
    "linf_error = np.max(np.abs(v_pred-v_small))\n",
    "\n",
    "l2_abs_error = np.sqrt(np.mean(np.square(l2_abs_error_per_edge)))\n",
    "l2_rel_error = np.sqrt(np.mean(np.square(l2_abs_error_per_edge / l2_norm_ref_per_edge)))\n"
   ]
  },
  {
   "cell_type": "code",
   "execution_count": 44,
   "id": "80a139c7-d332-48c5-9eb9-8127056b6af9",
   "metadata": {},
   "outputs": [],
   "source": [
    "L2_abs_loss.append(l2_abs_error)\n",
    "L2_rel_loss.append(l2_rel_error)\n",
    "Linf_loss.append(jnp.max(jnp.abs(v_pred-v_small)))\n",
    "fbeta_star = f_beta(beta_star, u_in, u_init_list, u_out, vel)\n",
    "Loss_sum.append(f(beta_star, u_in, u_init_list, u_out, vel))\n",
    "Loss_flux.append(fbeta_star[0])\n",
    "Loss_cont.append(fbeta_star[1])"
   ]
  },
  {
   "cell_type": "code",
   "execution_count": 45,
   "id": "2de654ff-f186-4d83-b9f3-690cd6e7ae40",
   "metadata": {},
   "outputs": [
    {
     "data": {
      "text/plain": [
       "np.float64(0.003762895975900863)"
      ]
     },
     "execution_count": 45,
     "metadata": {},
     "output_type": "execute_result"
    }
   ],
   "source": [
    "l2_abs_error"
   ]
  },
  {
   "cell_type": "code",
   "execution_count": 46,
   "id": "b461191b-7fc3-4536-8a3f-51308cd05a6b",
   "metadata": {},
   "outputs": [
    {
     "data": {
      "text/plain": [
       "np.float64(0.007776692291230213)"
      ]
     },
     "execution_count": 46,
     "metadata": {},
     "output_type": "execute_result"
    }
   ],
   "source": [
    "l2_rel_error"
   ]
  },
  {
   "cell_type": "code",
   "execution_count": 47,
   "id": "ce5cde93-42c4-44a8-8805-6f3c258c670a",
   "metadata": {},
   "outputs": [
    {
     "data": {
      "text/plain": [
       "np.float64(0.003762895975900863)"
      ]
     },
     "execution_count": 47,
     "metadata": {},
     "output_type": "execute_result"
    }
   ],
   "source": [
    "l2_abs_error"
   ]
  },
  {
   "cell_type": "code",
   "execution_count": 48,
   "id": "168dac1d-f2ef-4325-8946-022caf5e17a1",
   "metadata": {},
   "outputs": [
    {
     "data": {
      "text/plain": [
       "np.float64(0.007776692291230213)"
      ]
     },
     "execution_count": 48,
     "metadata": {},
     "output_type": "execute_result"
    }
   ],
   "source": [
    "l2_rel_error"
   ]
  },
  {
   "cell_type": "code",
   "execution_count": null,
   "id": "6188db39-c139-47f5-b306-99ff1f30f157",
   "metadata": {},
   "outputs": [],
   "source": []
  }
 ],
 "metadata": {
  "kernelspec": {
   "display_name": "jax (shared)",
   "language": "python",
   "name": "jax"
  },
  "language_info": {
   "codemirror_mode": {
    "name": "ipython",
    "version": 3
   },
   "file_extension": ".py",
   "mimetype": "text/x-python",
   "name": "python",
   "nbconvert_exporter": "python",
   "pygments_lexer": "ipython3",
   "version": "3.12.8"
  }
 },
 "nbformat": 4,
 "nbformat_minor": 5
}
